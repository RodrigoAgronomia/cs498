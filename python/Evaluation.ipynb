{
 "cells": [
  {
   "cell_type": "code",
   "execution_count": 1,
   "metadata": {},
   "outputs": [],
   "source": [
    "import os\n",
    "import pcse\n",
    "import yaml\n",
    "import h5py\n",
    "import numpy as np\n",
    "import pandas as pd\n",
    "import geopandas as gpd\n",
    "import datetime as dt\n",
    "from multiprocessing import Pool\n",
    "from tqdm.notebook import tqdm, trange\n",
    "import matplotlib.pyplot as plt\n",
    "import seaborn as sns\n",
    "from pcse.models import Wofost71_PP, Wofost71_WLP_FD\n",
    "from pcse.base import ParameterProvider\n",
    "from pcse.db import NASAPowerWeatherDataProvider\n",
    "from pcse import fileinput as fi\n",
    "from pcse.util import WOFOST71SiteDataProvider"
   ]
  },
  {
   "cell_type": "code",
   "execution_count": 2,
   "metadata": {},
   "outputs": [],
   "source": [
    "agro_yaml = \"\"\"\n",
    "Version: 1.0\n",
    "AgroManagement:\n",
    "- {sim_start_date}:\n",
    "    CropCalendar:\n",
    "        crop_name: maize\n",
    "        variety_name: Maize_VanHeemst_1988\n",
    "        crop_start_type: sowing\n",
    "        crop_start_date: {crop_start_date}\n",
    "        crop_end_type: earliest\n",
    "        crop_end_date: {crop_end_date}\n",
    "        max_duration: 300\n",
    "    TimedEvents: \n",
    "    -   event_signal: apply_n\n",
    "        name:  Nitrogen application table\n",
    "        comment: All nitrogen amounts in g N m-2\n",
    "        events_table:\n",
    "        - {fert_date}: {{amount: {n_rate}, recovery: 0.7}}\n",
    "    StateEvents: null\n",
    "\"\"\""
   ]
  },
  {
   "cell_type": "code",
   "execution_count": 3,
   "metadata": {},
   "outputs": [],
   "source": [
    "soildata = {'SMFCF': 0.2, 'SMW': 0.1, 'CRAIRC': 0.1, 'KSUB': 20.0,\n",
    "            'RDMSOL': 200.0, 'K0': 100.0, 'SOPE': 10.0, 'SM0': 0.4}\n",
    "\n",
    "cropdata = fi.YAMLCropDataProvider()\n",
    "cropdata.set_active_crop('maize', 'Maize_VanHeemst_1988')\n",
    "\n",
    "sitedata = WOFOST71SiteDataProvider(WAV=100, CO2=400)\n",
    "\n",
    "parameters = ParameterProvider(cropdata=cropdata, soildata=soildata, sitedata=sitedata)"
   ]
  },
  {
   "cell_type": "code",
   "execution_count": 10,
   "metadata": {},
   "outputs": [],
   "source": [
    "def run(wfile):\n",
    "    try:\n",
    "\n",
    "        site = os.path.basename(wfile).replace('.csv', '')\n",
    "        wdp = fi.CSVWeatherDataProvider(wfile)\n",
    "\n",
    "        # get new start date\n",
    "        crop_start_date = pd.to_datetime(site[18:26], format='%Y%m%d').date()\n",
    "        sim_start_date = crop_start_date - dt.timedelta(days = 90)\n",
    "        crop_end_date = crop_start_date + dt.timedelta(days = 210)\n",
    "        fert_date = crop_start_date + dt.timedelta(days = 30)\n",
    "        n_rate = 100\n",
    "\n",
    "        # update agromanagement with new start date and load it with yaml.load\n",
    "        tmp = agro_yaml.format(sim_start_date = sim_start_date,\n",
    "                               crop_start_date = crop_start_date,\n",
    "                               crop_end_date = crop_end_date,\n",
    "                               fert_date = fert_date,\n",
    "                               n_rate = n_rate)\n",
    "        agromanagement = yaml.load(tmp, yaml.FullLoader)\n",
    "\n",
    "        wofsim = Wofost71_WLP_FD(parameters, wdp, agromanagement)\n",
    "        wofsim.run_till_terminate()\n",
    "        output = wofsim.get_output()\n",
    "        df = pd.DataFrame(output).set_index(\"day\")\n",
    "        df['SIM'] = site\n",
    "        df['SIM_DATE'] = crop_start_date\n",
    "        return(df.iloc[-1])\n",
    "    except:\n",
    "        return(pd.DataFrame())\n"
   ]
  },
  {
   "cell_type": "code",
   "execution_count": null,
   "metadata": {},
   "outputs": [],
   "source": []
  },
  {
   "cell_type": "code",
   "execution_count": 11,
   "metadata": {},
   "outputs": [
    {
     "name": "stdout",
     "output_type": "stream",
     "text": [
      "38400\n"
     ]
    }
   ],
   "source": [
    "wdir = '../../../Apsim_test/MASAGRO/DAYMET_TILE'\n",
    "\n",
    "train_methods = ['none', 'rnd', 'adv']\n",
    "wfiles = sorted(os.listdir(wdir))\n",
    "wfiles_l = []\n",
    "for REP in range(1,3):\n",
    "    for train_method in train_methods:\n",
    "        for PCT in [1,5]:\n",
    "            fp = f'_opt_{train_method}_{PCT}_{REP}.csv'\n",
    "            [wfiles_l.append(os.path.join(wdir, f)) for f in wfiles if f.endswith(fp)]\n",
    "wfiles = wfiles_l\n",
    "print(len(wfiles))"
   ]
  },
  {
   "cell_type": "code",
   "execution_count": 12,
   "metadata": {},
   "outputs": [],
   "source": [
    "w = pd.read_csv(wfiles[0], skiprows = 13)\n",
    "# w"
   ]
  },
  {
   "cell_type": "code",
   "execution_count": 13,
   "metadata": {},
   "outputs": [],
   "source": [
    "df_test = run(wfiles[0])"
   ]
  },
  {
   "cell_type": "code",
   "execution_count": 25,
   "metadata": {},
   "outputs": [],
   "source": [
    "# output = []\n",
    "# if __name__ == '__main__':\n",
    "#     with Pool(processes=30) as p:\n",
    "#         with tqdm(total=len(wfiles)) as pbar:\n",
    "#             for i, df in enumerate(p.imap_unordered(run, wfiles)):\n",
    "#                 output.append(df)\n",
    "#                 pbar.update()\n",
    "\n",
    "outputf = [o if len(o) > 0 else df for o in output]\n",
    "output_df = pd.DataFrame(outputf)\n",
    "output_df.to_hdf('../data/PSCE_TILE_opt.h5', key = 'SIM')"
   ]
  },
  {
   "cell_type": "code",
   "execution_count": 21,
   "metadata": {},
   "outputs": [],
   "source": [
    "output_df = pd.read_hdf('../data/PSCE_TILE_opt.h5', key = 'SIM')\n",
    "output_df = output_df.sort_values('SIM')"
   ]
  },
  {
   "cell_type": "code",
   "execution_count": null,
   "metadata": {},
   "outputs": [],
   "source": [
    "yy = []\n",
    "for train_method in train_methods:\n",
    "    for train_pct in [1,5]:\n",
    "        yp = np.load(f'../data/y_pred_opt_{train_method}_0{train_pct}.npy')\n",
    "        ydf = pd.DataFrame(yp, columns=['Yield0', 'Yield_adv'])\n",
    "        ydf['train_method'] = train_method\n",
    "        ydf['train_pct'] = train_pct\n",
    "        ydf['id'] = np.arange(len(ydf))\n",
    "        yy.append(ydf)\n",
    "yy = pd.concat(yy)\n",
    "yy = yy.sort_values(['id', 'train_method', 'train_pct'])\n",
    "yy['SIM'] = output_df.SIM.values\n",
    "yy['Yield'] = output_df.TWSO.values"
   ]
  },
  {
   "cell_type": "code",
   "execution_count": null,
   "metadata": {},
   "outputs": [],
   "source": [
    "yy"
   ]
  },
  {
   "cell_type": "code",
   "execution_count": null,
   "metadata": {},
   "outputs": [],
   "source": [
    "yy.Yield.hist()\n",
    "yy.Yield_adv.hist()"
   ]
  },
  {
   "cell_type": "code",
   "execution_count": null,
   "metadata": {},
   "outputs": [],
   "source": [
    "yy['Yield_diff'] = yy.Yield - yy.Yield_adv"
   ]
  },
  {
   "cell_type": "code",
   "execution_count": null,
   "metadata": {},
   "outputs": [],
   "source": [
    "yy.groupby('train_method').Yield_diff.mean()"
   ]
  },
  {
   "cell_type": "code",
   "execution_count": null,
   "metadata": {},
   "outputs": [],
   "source": [
    "from sklearn.metrics import r2_score, mean_squared_error"
   ]
  },
  {
   "cell_type": "code",
   "execution_count": null,
   "metadata": {},
   "outputs": [],
   "source": [
    "def rmse( g ):\n",
    "    rmse = np.sqrt( mean_squared_error( g['Yield'], g['Yield_adv'] ) )\n",
    "    return pd.Series( dict( rmse = rmse ) )\n",
    "\n",
    "yy.groupby(['train_method', 'train_pct']).apply( rmse ).reset_index()"
   ]
  },
  {
   "cell_type": "code",
   "execution_count": null,
   "metadata": {},
   "outputs": [],
   "source": []
  },
  {
   "cell_type": "code",
   "execution_count": null,
   "metadata": {},
   "outputs": [],
   "source": [
    "plt.subplots(figsize=(7,6), dpi=100)\n",
    "sns.distplot( yy.loc[yy.train_method=='none', \"Yield_diff\"] , color=\"dodgerblue\", label=\"None\")\n",
    "sns.distplot( yy.loc[yy.train_method=='rnd', \"Yield_diff\"] , color=\"orange\", label=\"Random\")\n",
    "sns.distplot( yy.loc[yy.train_method=='adv', \"Yield_diff\"] , color=\"deeppink\", label=\"Adversarial\")\n",
    "\n",
    "plt.legend()"
   ]
  },
  {
   "cell_type": "code",
   "execution_count": null,
   "metadata": {},
   "outputs": [],
   "source": [
    "sns.scatterplot('Yield_adv', 'Yield', 'train_method', data = yy.loc[yy.train_pct == 1])"
   ]
  },
  {
   "cell_type": "code",
   "execution_count": null,
   "metadata": {},
   "outputs": [],
   "source": [
    "sns.scatterplot('Yield_adv', 'Yield', 'train_method', data = yy.loc[yy.train_pct == 5])"
   ]
  },
  {
   "cell_type": "code",
   "execution_count": null,
   "metadata": {},
   "outputs": [],
   "source": []
  }
 ],
 "metadata": {
  "kernelspec": {
   "display_name": "Python [conda env:GEOANN]",
   "language": "python",
   "name": "conda-env-GEOANN-py"
  },
  "language_info": {
   "codemirror_mode": {
    "name": "ipython",
    "version": 3
   },
   "file_extension": ".py",
   "mimetype": "text/x-python",
   "name": "python",
   "nbconvert_exporter": "python",
   "pygments_lexer": "ipython3",
   "version": "3.7.6"
  }
 },
 "nbformat": 4,
 "nbformat_minor": 4
}
