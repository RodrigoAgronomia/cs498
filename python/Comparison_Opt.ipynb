{
 "cells": [
  {
   "cell_type": "code",
   "execution_count": 1,
   "metadata": {},
   "outputs": [],
   "source": [
    "import os\n",
    "import h5py\n",
    "import time\n",
    "import torch\n",
    "import pyreadr\n",
    "import numpy as np\n",
    "import pandas as pd\n",
    "import datetime as dt\n",
    "import torch.nn as nn\n",
    "import seaborn as sns\n",
    "import matplotlib.pyplot as plt\n",
    "import torch.nn.functional as F\n",
    "from pandas.api.types import CategoricalDtype\n",
    "from torch.utils.data import Dataset, DataLoader\n",
    "from torch.nn.utils import weight_norm\n",
    "from sklearn.manifold import TSNE\n",
    "from livelossplot import PlotLosses\n",
    "from pytorch_model_summary import summary\n",
    "from tqdm.notebook import tqdm, trange\n",
    "from sklearn.metrics import mean_squared_error\n",
    "\n",
    "device = torch.device('cuda')"
   ]
  },
  {
   "cell_type": "code",
   "execution_count": 2,
   "metadata": {},
   "outputs": [],
   "source": [
    "class MyDataset(torch.utils.data.Dataset):\n",
    "    '''\n",
    "    Class to load the dataset\n",
    "    '''\n",
    "    def __init__(self, w, y, idx):\n",
    "        self.w = w\n",
    "        self.y = y\n",
    "        self.idx = idx\n",
    "            \n",
    "    def __len__(self):\n",
    "        return len(self.idx)\n",
    "\n",
    "    def __getitem__(self, idx):\n",
    "            \n",
    "        idx = self.idx[idx]\n",
    "        \n",
    "        ww = torch.tensor(self.w[idx], dtype=torch.float, device = device)\n",
    "        yy = torch.tensor(self.y[idx], dtype=torch.float, device = device)\n",
    "        \n",
    "        return (ww, yy)"
   ]
  },
  {
   "cell_type": "code",
   "execution_count": 3,
   "metadata": {},
   "outputs": [],
   "source": [
    "class MyNet(nn.Module):\n",
    "\n",
    "    def __init__(self, w_layers, pred_layers):\n",
    "\n",
    "        super().__init__()\n",
    "              \n",
    "        # CNN blocks\n",
    "        w_layers_list = nn.ModuleList()\n",
    "        for i, o, k, d in w_layers:\n",
    "            w_layer = nn.Sequential(\n",
    "                nn.Conv1d(i, o, k),\n",
    "                nn.AvgPool1d(2),\n",
    "                nn.LeakyReLU(),\n",
    "                nn.BatchNorm1d(o),\n",
    "                nn.Dropout(d)\n",
    "            )\n",
    "            w_layers_list.append(w_layer)\n",
    "        w_layers_list.append(nn.AdaptiveAvgPool1d(1))\n",
    "        self.w_layers = nn.Sequential(*w_layers_list)\n",
    "\n",
    "        \n",
    "        # FC blocks\n",
    "        pred_layers_list = nn.ModuleList()\n",
    "        for i, o, d in pred_layers:\n",
    "            pred_layer = nn.Sequential(\n",
    "                nn.Linear(i, o),\n",
    "                nn.LeakyReLU(),\n",
    "                nn.BatchNorm1d(o),\n",
    "                nn.Dropout(d)\n",
    "            )\n",
    "            pred_layers_list.append(pred_layer)\n",
    "        pred_layers_list.append(nn.Linear(o, 1))\n",
    "        self.pred_layers = nn.Sequential(*pred_layers_list)\n",
    "        \n",
    "   \n",
    "    def forward(self, Ws):\n",
    "        \n",
    "        feat = self.w_layers(Ws).view(Ws.shape[0], -1)\n",
    "        pred = self.pred_layers(feat)\n",
    "        return (torch.tanh(pred))\n"
   ]
  },
  {
   "cell_type": "code",
   "execution_count": 4,
   "metadata": {},
   "outputs": [],
   "source": [
    "def load_data(wfiles, ydf):\n",
    "    sim_ww = []\n",
    "    sim_yy = []\n",
    "\n",
    "    wfile = wfiles[10]\n",
    "    for wfile in tqdm(wfiles):   \n",
    "        ridx = np.arange(80,100)\n",
    "        site = os.path.basename(wfile).replace('.csv', '')\n",
    "\n",
    "        w = pd.read_csv(wfile, skiprows = 13)\n",
    "        w.DAY = pd.to_datetime(w.DAY, format = '%Y%m%d').dt.date\n",
    "\n",
    "        sydf = ydf.loc[site]\n",
    "        sim_yy.append(sydf.Yield.values[ridx])\n",
    "\n",
    "        wwf = []\n",
    "        for crop_start_date in sydf.SIM_DATE.values[ridx]:\n",
    "            cs_date = np.where(w.DAY == crop_start_date)[0][0]\n",
    "            wrng = slice(cs_date-90, cs_date+210)\n",
    "            ww = w.iloc[wrng,[1,2,3,4,6]].values / ws\n",
    "            wwf.append(ww)\n",
    "\n",
    "        sim_ww.append(np.concatenate(wwf))\n",
    "\n",
    "    sim_ww = np.stack(sim_ww)\n",
    "    sim_yy = np.stack(sim_yy)\n",
    "    return(sim_ww, sim_yy)\n"
   ]
  },
  {
   "cell_type": "code",
   "execution_count": 5,
   "metadata": {},
   "outputs": [],
   "source": [
    "# Values used to scale the weather data:\n",
    "ws = np.array([[[5e4,50,50,5,100.0]]])"
   ]
  },
  {
   "cell_type": "code",
   "execution_count": 33,
   "metadata": {},
   "outputs": [],
   "source": [
    "ydf = pd.read_hdf('../data/PSCE_TILE_opt.h5', key = 'SIM').set_index('SIM')\n",
    "sim_yy = (ydf.TWSO.values/2e4)"
   ]
  },
  {
   "cell_type": "code",
   "execution_count": 8,
   "metadata": {},
   "outputs": [
    {
     "name": "stdout",
     "output_type": "stream",
     "text": [
      "38400\n"
     ]
    }
   ],
   "source": [
    "wdir = '../../../Apsim_test/MASAGRO/DAYMET_TILE'\n",
    "\n",
    "train_methods = ['none', 'rnd', 'adv']\n",
    "wfiles = sorted(os.listdir(wdir))\n",
    "wfiles_l = []\n",
    "for REP in range(1,3):\n",
    "    for train_method in train_methods:\n",
    "        for PCT in [1,5]:\n",
    "            fp = f'_opt_{train_method}_{PCT}_{REP}.csv'\n",
    "            [wfiles_l.append(os.path.join(wdir, f)) for f in wfiles if f.endswith(fp)]\n",
    "wfiles = wfiles_l\n",
    "print(len(wfiles))"
   ]
  },
  {
   "cell_type": "code",
   "execution_count": 24,
   "metadata": {},
   "outputs": [
    {
     "data": {
      "application/vnd.jupyter.widget-view+json": {
       "model_id": "b51d101bdf684ec5b337644c1764ac29",
       "version_major": 2,
       "version_minor": 0
      },
      "text/plain": [
       "HBox(children=(FloatProgress(value=0.0, max=38400.0), HTML(value='')))"
      ]
     },
     "metadata": {},
     "output_type": "display_data"
    },
    {
     "name": "stdout",
     "output_type": "stream",
     "text": [
      "\n"
     ]
    }
   ],
   "source": [
    "sim_ww = []\n",
    "for wfile in tqdm(wfiles):\n",
    "    w = pd.read_csv(wfile, skiprows = 13)\n",
    "    ww = w.iloc[:,[1,2,3,4,6]].values / ws\n",
    "    sim_ww.append(ww)\n",
    "sim_ww = np.stack(sim_ww)\n"
   ]
  },
  {
   "cell_type": "code",
   "execution_count": 25,
   "metadata": {},
   "outputs": [],
   "source": [
    "wd = np.zeros_like(sim_ww[:,:,:,[0]])\n",
    "wd = wd + np.linspace(-0.9,2.1,300)[None,None,:,None]\n",
    "W = np.concatenate([sim_ww, wd], -1)\n",
    "W = np.moveaxis(W, -1, -2)"
   ]
  },
  {
   "cell_type": "code",
   "execution_count": 35,
   "metadata": {},
   "outputs": [],
   "source": [
    "test_val_W = W.reshape(-1, *W.shape[2:])\n",
    "test_val_y = sim_yy.reshape(-1, *sim_yy.shape[2:])\n",
    "pred_idx = np.arange(len(test_val_y))"
   ]
  },
  {
   "cell_type": "code",
   "execution_count": 36,
   "metadata": {},
   "outputs": [
    {
     "name": "stdout",
     "output_type": "stream",
     "text": [
      "39\n"
     ]
    }
   ],
   "source": [
    "batch_size = 1000\n",
    "\n",
    "test_dataset = MyDataset(test_val_W, test_val_y, pred_idx)\n",
    "test_loader = DataLoader(test_dataset, batch_size=batch_size, shuffle=False)\n",
    "\n",
    "data_inputs = iter(test_loader).next()\n",
    "print(len(test_loader))\n"
   ]
  },
  {
   "cell_type": "code",
   "execution_count": 37,
   "metadata": {},
   "outputs": [],
   "source": [
    "d = 0.1\n",
    "w_layers =  [[6,12,3,d],[12,15,5,d],[15,20,7,d],[20,25,5,d],[25,100,3,d]]\n",
    "pred_layers = [[100,50,d],[50,50,d], [50,25,d]]"
   ]
  },
  {
   "cell_type": "code",
   "execution_count": 46,
   "metadata": {},
   "outputs": [
    {
     "name": "stdout",
     "output_type": "stream",
     "text": [
      "../../APSIMDL/data/model_cnn_none_1_1.pth\n"
     ]
    },
    {
     "data": {
      "application/vnd.jupyter.widget-view+json": {
       "model_id": "2b46b1bfd9b146e2b4ff1d0320707fdd",
       "version_major": 2,
       "version_minor": 0
      },
      "text/plain": [
       "HBox(children=(FloatProgress(value=0.0, max=39.0), HTML(value='')))"
      ]
     },
     "metadata": {},
     "output_type": "display_data"
    },
    {
     "name": "stdout",
     "output_type": "stream",
     "text": [
      "\n",
      "../../APSIMDL/data/model_cnn_none_5_1.pth\n"
     ]
    },
    {
     "data": {
      "application/vnd.jupyter.widget-view+json": {
       "model_id": "ca33d9c174044b6fb0157299a8839abb",
       "version_major": 2,
       "version_minor": 0
      },
      "text/plain": [
       "HBox(children=(FloatProgress(value=0.0, max=39.0), HTML(value='')))"
      ]
     },
     "metadata": {},
     "output_type": "display_data"
    },
    {
     "name": "stdout",
     "output_type": "stream",
     "text": [
      "\n",
      "../../APSIMDL/data/model_cnn_rnd_1_1.pth\n"
     ]
    },
    {
     "data": {
      "application/vnd.jupyter.widget-view+json": {
       "model_id": "d09dd00296434f738db1ea38ca76b549",
       "version_major": 2,
       "version_minor": 0
      },
      "text/plain": [
       "HBox(children=(FloatProgress(value=0.0, max=39.0), HTML(value='')))"
      ]
     },
     "metadata": {},
     "output_type": "display_data"
    },
    {
     "name": "stdout",
     "output_type": "stream",
     "text": [
      "\n",
      "../../APSIMDL/data/model_cnn_rnd_5_1.pth\n"
     ]
    },
    {
     "data": {
      "application/vnd.jupyter.widget-view+json": {
       "model_id": "61737fb2c9aa4af9a4ecfccaf408c764",
       "version_major": 2,
       "version_minor": 0
      },
      "text/plain": [
       "HBox(children=(FloatProgress(value=0.0, max=39.0), HTML(value='')))"
      ]
     },
     "metadata": {},
     "output_type": "display_data"
    },
    {
     "name": "stdout",
     "output_type": "stream",
     "text": [
      "\n",
      "../../APSIMDL/data/model_cnn_adv_1_1.pth\n"
     ]
    },
    {
     "data": {
      "application/vnd.jupyter.widget-view+json": {
       "model_id": "a19da9485d024fb8a58a1643def552d4",
       "version_major": 2,
       "version_minor": 0
      },
      "text/plain": [
       "HBox(children=(FloatProgress(value=0.0, max=39.0), HTML(value='')))"
      ]
     },
     "metadata": {},
     "output_type": "display_data"
    },
    {
     "name": "stdout",
     "output_type": "stream",
     "text": [
      "\n",
      "../../APSIMDL/data/model_cnn_adv_5_1.pth\n"
     ]
    },
    {
     "data": {
      "application/vnd.jupyter.widget-view+json": {
       "model_id": "26c6deec2eb14e139eb1478141b48749",
       "version_major": 2,
       "version_minor": 0
      },
      "text/plain": [
       "HBox(children=(FloatProgress(value=0.0, max=39.0), HTML(value='')))"
      ]
     },
     "metadata": {},
     "output_type": "display_data"
    },
    {
     "name": "stdout",
     "output_type": "stream",
     "text": [
      "\n",
      "../../APSIMDL/data/model_cnn_none_1_2.pth\n"
     ]
    },
    {
     "data": {
      "application/vnd.jupyter.widget-view+json": {
       "model_id": "80840b7b7cd0495595564088f2763b7c",
       "version_major": 2,
       "version_minor": 0
      },
      "text/plain": [
       "HBox(children=(FloatProgress(value=0.0, max=39.0), HTML(value='')))"
      ]
     },
     "metadata": {},
     "output_type": "display_data"
    },
    {
     "name": "stdout",
     "output_type": "stream",
     "text": [
      "\n",
      "../../APSIMDL/data/model_cnn_none_5_2.pth\n"
     ]
    },
    {
     "data": {
      "application/vnd.jupyter.widget-view+json": {
       "model_id": "57a50b75cf7e4e599b692b8ff222d951",
       "version_major": 2,
       "version_minor": 0
      },
      "text/plain": [
       "HBox(children=(FloatProgress(value=0.0, max=39.0), HTML(value='')))"
      ]
     },
     "metadata": {},
     "output_type": "display_data"
    },
    {
     "name": "stdout",
     "output_type": "stream",
     "text": [
      "\n",
      "../../APSIMDL/data/model_cnn_rnd_1_2.pth\n"
     ]
    },
    {
     "data": {
      "application/vnd.jupyter.widget-view+json": {
       "model_id": "c852b6fe858b4805ba951d80f3fcbd2d",
       "version_major": 2,
       "version_minor": 0
      },
      "text/plain": [
       "HBox(children=(FloatProgress(value=0.0, max=39.0), HTML(value='')))"
      ]
     },
     "metadata": {},
     "output_type": "display_data"
    },
    {
     "name": "stdout",
     "output_type": "stream",
     "text": [
      "\n",
      "../../APSIMDL/data/model_cnn_rnd_5_2.pth\n"
     ]
    },
    {
     "data": {
      "application/vnd.jupyter.widget-view+json": {
       "model_id": "b1a63be877fa4d45b3c3fb63ed21e96b",
       "version_major": 2,
       "version_minor": 0
      },
      "text/plain": [
       "HBox(children=(FloatProgress(value=0.0, max=39.0), HTML(value='')))"
      ]
     },
     "metadata": {},
     "output_type": "display_data"
    },
    {
     "name": "stdout",
     "output_type": "stream",
     "text": [
      "\n",
      "../../APSIMDL/data/model_cnn_adv_1_2.pth\n"
     ]
    },
    {
     "data": {
      "application/vnd.jupyter.widget-view+json": {
       "model_id": "a506b0bf409a44c98e07d8ffad17ad1f",
       "version_major": 2,
       "version_minor": 0
      },
      "text/plain": [
       "HBox(children=(FloatProgress(value=0.0, max=39.0), HTML(value='')))"
      ]
     },
     "metadata": {},
     "output_type": "display_data"
    },
    {
     "name": "stdout",
     "output_type": "stream",
     "text": [
      "\n",
      "../../APSIMDL/data/model_cnn_adv_5_2.pth\n"
     ]
    },
    {
     "data": {
      "application/vnd.jupyter.widget-view+json": {
       "model_id": "b67df5b6cf3941598588985727964a85",
       "version_major": 2,
       "version_minor": 0
      },
      "text/plain": [
       "HBox(children=(FloatProgress(value=0.0, max=39.0), HTML(value='')))"
      ]
     },
     "metadata": {},
     "output_type": "display_data"
    },
    {
     "name": "stdout",
     "output_type": "stream",
     "text": [
      "\n"
     ]
    }
   ],
   "source": [
    "train_methods = ['none', 'rnd', 'adv']\n",
    "\n",
    "PCT = 1\n",
    "REP = 1\n",
    "\n",
    "dff = []\n",
    "for REP in range(1,3):\n",
    "    for train_method in train_methods:\n",
    "        for PCT in [1,5]:\n",
    "            model = MyNet(w_layers, pred_layers)\n",
    "            model = model.to(device)\n",
    "            model_file_name = f'../../APSIMDL/data/model_cnn_{train_method}_{PCT}_{REP}.pth'\n",
    "            model.load_state_dict(torch.load(model_file_name, map_location=device))\n",
    "            print(model_file_name)\n",
    "\n",
    "            # Realiza a predição dos dados a partir do modelo treinado - Dados de validação\n",
    "            model.eval()\n",
    "            obs = []\n",
    "            preds = []\n",
    "            for i, (Ws, Ys) in enumerate(tqdm(test_loader)):\n",
    "                obs.append(Ys.cpu().data.numpy())\n",
    "                with torch.no_grad():\n",
    "                    pred = model(Ws)\n",
    "                preds.append(pred.cpu().data.numpy())\n",
    "            obs = np.concatenate(obs)\n",
    "            preds = np.concatenate(preds)\n",
    "\n",
    "            x = preds.reshape(-1) * 2e4\n",
    "            y = obs.reshape(-1) * 2e4\n",
    "\n",
    "            df = pd.DataFrame(np.stack([x,y], 1), columns=['Yield_pred', 'Yield_obs'])\n",
    "            df['train_method'] = train_method\n",
    "            df['PCT'] = PCT\n",
    "            df['REP'] = REP\n",
    "            df['SIM'] = ydf.index\n",
    "            dff.append(df)\n",
    "dff = pd.concat(dff)"
   ]
  },
  {
   "cell_type": "code",
   "execution_count": 60,
   "metadata": {},
   "outputs": [],
   "source": [
    "crit = dff.SIM.str[31:] == dff.train_method + '_' + dff.PCT.astype('str') + '_' + dff.REP.astype('str')\n",
    "dfff = dff.loc[crit]"
   ]
  },
  {
   "cell_type": "code",
   "execution_count": 62,
   "metadata": {},
   "outputs": [],
   "source": [
    "def rmse( g ):\n",
    "    rmse = np.sqrt( mean_squared_error( g['Yield_pred'], g['Yield_obs'] ) )\n",
    "    return pd.Series( dict( rmse = rmse ) )\n",
    "\n",
    "dfm = dfff.groupby(['train_method', 'PCT']).apply( rmse ).reset_index()"
   ]
  },
  {
   "cell_type": "code",
   "execution_count": 63,
   "metadata": {},
   "outputs": [
    {
     "name": "stdout",
     "output_type": "stream",
     "text": [
      "\\begin{tabular}{lrr}\n",
      "\\toprule\n",
      "train\\_method &  PCT &         rmse \\\\\n",
      "\\midrule\n",
      "         adv &    1 &  2560.323486 \\\\\n",
      "         adv &    5 &  2787.618896 \\\\\n",
      "        none &    1 &  1915.808105 \\\\\n",
      "        none &    5 &  3799.413818 \\\\\n",
      "         rnd &    1 &  2275.090332 \\\\\n",
      "         rnd &    5 &  2086.292236 \\\\\n",
      "\\bottomrule\n",
      "\\end{tabular}\n",
      "\n"
     ]
    }
   ],
   "source": [
    "print(dfm.to_latex(index = False))"
   ]
  },
  {
   "cell_type": "code",
   "execution_count": 64,
   "metadata": {},
   "outputs": [],
   "source": [
    "# sns.scatterplot('Yield_pred', 'Yield_obs', 'train_method', s = 0.5,  linewidth=0, data = dff)"
   ]
  },
  {
   "cell_type": "code",
   "execution_count": null,
   "metadata": {},
   "outputs": [],
   "source": []
  },
  {
   "cell_type": "code",
   "execution_count": 66,
   "metadata": {},
   "outputs": [
    {
     "data": {
      "image/png": "[encoded data removed]",
      "text/plain": [
       "<Figure size 216x648 with 3 Axes>"
      ]
     },
     "metadata": {
      "needs_background": "light"
     },
     "output_type": "display_data"
    }
   ],
   "source": [
    "dff.train_method = dff.train_method.replace({'rnd':'random', 'adv':'adversarial'})\n",
    "dff['Data augmentation'] = dff.train_method\n",
    "dff['Observed Yield (kg/ha)'] = dff.Yield_obs\n",
    "dff['Predicted Yield (kg/ha)'] = dff.Yield_pred\n",
    "\n",
    "\n",
    "g = sns.FacetGrid(dff, row=\"Data augmentation\")\n",
    "g = g.map(sns.scatterplot, 'Predicted Yield (kg/ha)', 'Observed Yield (kg/ha)', s = 0.5,  linewidth=0, color = 'black')\n",
    "plt.savefig('../figures/sca_opt.png')"
   ]
  },
  {
   "cell_type": "code",
   "execution_count": null,
   "metadata": {},
   "outputs": [],
   "source": []
  },
  {
   "cell_type": "code",
   "execution_count": null,
   "metadata": {},
   "outputs": [],
   "source": []
  }
 ],
 "metadata": {
  "kernelspec": {
   "display_name": "Python [conda env:GEOANN]",
   "language": "python",
   "name": "conda-env-GEOANN-py"
  },
  "language_info": {
   "codemirror_mode": {
    "name": "ipython",
    "version": 3
   },
   "file_extension": ".py",
   "mimetype": "text/x-python",
   "name": "python",
   "nbconvert_exporter": "python",
   "pygments_lexer": "ipython3",
   "version": "3.7.6"
  },
  "varInspector": {
   "cols": {
    "lenName": 16,
    "lenType": 16,
    "lenVar": 40
   },
   "kernels_config": {
    "python": {
     "delete_cmd_postfix": "",
     "delete_cmd_prefix": "del ",
     "library": "var_list.py",
     "varRefreshCmd": "print(var_dic_list())"
    },
    "r": {
     "delete_cmd_postfix": ") ",
     "delete_cmd_prefix": "rm(",
     "library": "var_list.r",
     "varRefreshCmd": "cat(var_dic_list()) "
    }
   },
   "types_to_exclude": [
    "module",
    "function",
    "builtin_function_or_method",
    "instance",
    "_Feature"
   ],
   "window_display": false
  }
 },
 "nbformat": 4,
 "nbformat_minor": 2
}
