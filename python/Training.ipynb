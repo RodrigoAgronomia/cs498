{
 "cells": [
  {
   "cell_type": "code",
   "execution_count": 1,
   "metadata": {},
   "outputs": [],
   "source": [
    "import os\n",
    "import h5py\n",
    "import time\n",
    "import torch\n",
    "import pyreadr\n",
    "import numpy as np\n",
    "import pandas as pd\n",
    "import datetime as dt\n",
    "import torch.nn as nn\n",
    "import matplotlib.pyplot as plt\n",
    "import torch.nn.functional as F\n",
    "from pandas.api.types import CategoricalDtype\n",
    "from torch.utils.data import Dataset, DataLoader\n",
    "from torch.nn.utils import weight_norm\n",
    "from sklearn.manifold import TSNE\n",
    "from livelossplot import PlotLosses\n",
    "from pytorch_model_summary import summary\n",
    "from tqdm.notebook import tqdm, trange\n",
    "\n",
    "device = torch.device('cuda')"
   ]
  },
  {
   "cell_type": "code",
   "execution_count": 2,
   "metadata": {},
   "outputs": [],
   "source": [
    "class MyDataset(torch.utils.data.Dataset):\n",
    "    '''\n",
    "    Class to load the dataset\n",
    "    '''\n",
    "    def __init__(self, w, y, idx):\n",
    "        self.w = w\n",
    "        self.y = y\n",
    "        self.idx = idx\n",
    "            \n",
    "    def __len__(self):\n",
    "        return len(self.idx)\n",
    "\n",
    "    def __getitem__(self, idx):\n",
    "            \n",
    "        idx = self.idx[idx]\n",
    "        \n",
    "        ww = torch.tensor(self.w[idx], dtype=torch.float, device = device)\n",
    "        yy = torch.tensor(self.y[idx], dtype=torch.float, device = device)\n",
    "        \n",
    "        return (ww, yy)"
   ]
  },
  {
   "cell_type": "code",
   "execution_count": 3,
   "metadata": {},
   "outputs": [],
   "source": [
    "class MyNet(nn.Module):\n",
    "\n",
    "    def __init__(self, w_layers, pred_layers):\n",
    "\n",
    "        super().__init__()\n",
    "              \n",
    "        # CNN blocks\n",
    "        w_layers_list = nn.ModuleList()\n",
    "        for i, o, k, d in w_layers:\n",
    "            w_layer = nn.Sequential(\n",
    "                nn.Conv1d(i, o, k),\n",
    "                nn.AvgPool1d(2),\n",
    "                nn.LeakyReLU(),\n",
    "                nn.BatchNorm1d(o),\n",
    "                nn.Dropout(d)\n",
    "            )\n",
    "            w_layers_list.append(w_layer)\n",
    "        w_layers_list.append(nn.AdaptiveAvgPool1d(1))\n",
    "        self.w_layers = nn.Sequential(*w_layers_list)\n",
    "\n",
    "        \n",
    "        # FC blocks\n",
    "        pred_layers_list = nn.ModuleList()\n",
    "        for i, o, d in pred_layers:\n",
    "            pred_layer = nn.Sequential(\n",
    "                nn.Linear(i, o),\n",
    "                nn.LeakyReLU(),\n",
    "                nn.BatchNorm1d(o),\n",
    "                nn.Dropout(d)\n",
    "            )\n",
    "            pred_layers_list.append(pred_layer)\n",
    "        pred_layers_list.append(nn.Linear(o, 1))\n",
    "        self.pred_layers = nn.Sequential(*pred_layers_list)\n",
    "        \n",
    "   \n",
    "    def forward(self, Ws):\n",
    "        \n",
    "        feat = self.w_layers(Ws).view(Ws.shape[0], -1)\n",
    "        pred = self.pred_layers(feat)\n",
    "        return (torch.tanh(pred))\n"
   ]
  },
  {
   "cell_type": "code",
   "execution_count": 4,
   "metadata": {},
   "outputs": [],
   "source": [
    "def load_data(wfiles, ydf, pct):\n",
    "    sim_ww = []\n",
    "    sim_yy = []\n",
    "\n",
    "    wfile = wfiles[10]\n",
    "    for wfile in tqdm(wfiles):   \n",
    "        ridx = np.random.rand(10,10).argsort(1)[:,:pct]\n",
    "        ridx = ridx + np.arange(0, 100, 10)[:,None]\n",
    "        ridx = np.sort(ridx.reshape(-1))\n",
    "        site = os.path.basename(wfile).replace('.csv', '')\n",
    "\n",
    "        w = pd.read_csv(wfile, skiprows = 13)\n",
    "        w.DAY = pd.to_datetime(w.DAY, format = '%Y%m%d').dt.date\n",
    "\n",
    "        sydf = ydf.loc[site]\n",
    "        sim_yy.append(sydf.Yield.values[ridx])\n",
    "\n",
    "        wwf = []\n",
    "        for crop_start_date in sydf.SIM_DATE.values[ridx]:\n",
    "            cs_date = np.where(w.DAY == crop_start_date)[0][0]\n",
    "            wrng = slice(cs_date-90, cs_date+210)\n",
    "            ww = w.iloc[wrng,[1,2,3,4,6]].values / ws\n",
    "            wwf.append(ww)\n",
    "\n",
    "        sim_ww.append(np.concatenate(wwf))\n",
    "\n",
    "    sim_ww = np.stack(sim_ww)\n",
    "    sim_yy = np.stack(sim_yy)\n",
    "    return(sim_ww, sim_yy)\n"
   ]
  },
  {
   "cell_type": "code",
   "execution_count": 23,
   "metadata": {},
   "outputs": [],
   "source": [
    "PCT = 1\n",
    "REP = 3"
   ]
  },
  {
   "cell_type": "code",
   "execution_count": 24,
   "metadata": {},
   "outputs": [],
   "source": [
    "# Values used to scale the weather data:\n",
    "ws = np.array([[[5e4,50,50,5,100.0]]])"
   ]
  },
  {
   "cell_type": "code",
   "execution_count": 25,
   "metadata": {},
   "outputs": [],
   "source": [
    "ydf = pd.read_hdf('../data/PSCE_TILE.h5', key = 'SIM').set_index('SIM')\n",
    "ydf['Yield'] = (ydf.TWSO/2e4)"
   ]
  },
  {
   "cell_type": "code",
   "execution_count": 26,
   "metadata": {},
   "outputs": [
    {
     "data": {
      "application/vnd.jupyter.widget-view+json": {
       "model_id": "bfee74fd77a94b788b80913f328ef616",
       "version_major": 2,
       "version_minor": 0
      },
      "text/plain": [
       "HBox(children=(FloatProgress(value=0.0, max=1600.0), HTML(value='')))"
      ]
     },
     "metadata": {},
     "output_type": "display_data"
    },
    {
     "name": "stdout",
     "output_type": "stream",
     "text": [
      "\n"
     ]
    }
   ],
   "source": [
    "wdir = '/home/rodrigo7/Apsim_test/MASAGRO/DAYMET_TILE'\n",
    "pxy = np.stack(np.meshgrid(np.arange(40), np.arange(40)), -1).reshape(-1, 2)\n",
    "wfiles = [f'{wdir}/DAYMET_9584_{px:02d}_{py:02d}.csv' for px, py in pxy]\n",
    "\n",
    "sim_ww, sim_yy = load_data(wfiles, ydf, PCT)"
   ]
  },
  {
   "cell_type": "code",
   "execution_count": 27,
   "metadata": {},
   "outputs": [],
   "source": [
    "wd = np.zeros_like(sim_ww[:,:,:,[0]])\n",
    "wd = wd + np.linspace(-0.9,2.1,300)[None,None,:,None]\n",
    "W = np.concatenate([sim_ww, wd], -1)\n",
    "W = np.moveaxis(W, -1, -2)"
   ]
  },
  {
   "cell_type": "code",
   "execution_count": 28,
   "metadata": {},
   "outputs": [],
   "source": [
    "w_std = W.std((0,1,3))\n",
    "w_std[-1] = 0\n",
    "w_std = torch.tensor(w_std, device = device, dtype = torch.float)[:,None]"
   ]
  },
  {
   "cell_type": "code",
   "execution_count": 29,
   "metadata": {},
   "outputs": [],
   "source": [
    "# Select the first 8 years to use for training/validation:\n",
    "train_val_W = W[:,:int(8*PCT)].reshape(-1, *W.shape[2:])\n",
    "train_val_y = sim_yy[:,:int(8*PCT)].reshape(-1, *sim_yy.shape[2:])\n",
    "\n",
    "test_val_W = W[:,int(8*PCT):].reshape(-1, *W.shape[2:])\n",
    "test_val_y = sim_yy[:,int(8*PCT):].reshape(-1, *sim_yy.shape[2:])"
   ]
  },
  {
   "cell_type": "code",
   "execution_count": 30,
   "metadata": {},
   "outputs": [
    {
     "name": "stdout",
     "output_type": "stream",
     "text": [
      "(10240,) (2560,)\n"
     ]
    }
   ],
   "source": [
    "# Select the first 8 years to use for training/validation:\n",
    "pred_idx = np.arange(len(test_val_y))\n",
    "\n",
    "train_idx = np.arange(len(train_val_y))\n",
    "val_idx = np.random.choice(train_idx, size=int(0.2*len(train_idx)), replace=False)\n",
    "train_idx = np.setdiff1d(train_idx, val_idx)\n",
    "print(train_idx.shape, val_idx.shape)"
   ]
  },
  {
   "cell_type": "code",
   "execution_count": 31,
   "metadata": {},
   "outputs": [
    {
     "name": "stdout",
     "output_type": "stream",
     "text": [
      "103\n"
     ]
    }
   ],
   "source": [
    "batch_size = 100\n",
    "\n",
    "test_dataset = MyDataset(test_val_W, test_val_y, pred_idx)\n",
    "train_dataset = MyDataset(train_val_W, train_val_y, train_idx)\n",
    "val_dataset = MyDataset(train_val_W, train_val_y, val_idx)\n",
    "\n",
    "\n",
    "test_loader = DataLoader(test_dataset, batch_size=batch_size, shuffle=False)\n",
    "train_loader = DataLoader(train_dataset, batch_size=batch_size, shuffle=True)\n",
    "val_loader = DataLoader(val_dataset, batch_size=batch_size, shuffle=True)\n",
    "\n",
    "data_inputs = iter(train_loader).next()\n",
    "print(len(train_loader))\n"
   ]
  },
  {
   "cell_type": "code",
   "execution_count": 39,
   "metadata": {},
   "outputs": [
    {
     "name": "stdout",
     "output_type": "stream",
     "text": [
      "----------------------------------------------------------------------------\n",
      "           Layer (type)        Output Shape         Param #     Tr. Param #\n",
      "============================================================================\n",
      "               Conv1d-1      [100, 12, 298]             228             228\n",
      "            AvgPool1d-2      [100, 12, 149]               0               0\n",
      "            LeakyReLU-3      [100, 12, 149]               0               0\n",
      "          BatchNorm1d-4      [100, 12, 149]              24              24\n",
      "              Dropout-5      [100, 12, 149]               0               0\n",
      "               Conv1d-6      [100, 15, 145]             915             915\n",
      "            AvgPool1d-7       [100, 15, 72]               0               0\n",
      "            LeakyReLU-8       [100, 15, 72]               0               0\n",
      "          BatchNorm1d-9       [100, 15, 72]              30              30\n",
      "             Dropout-10       [100, 15, 72]               0               0\n",
      "              Conv1d-11       [100, 20, 66]           2,120           2,120\n",
      "           AvgPool1d-12       [100, 20, 33]               0               0\n",
      "           LeakyReLU-13       [100, 20, 33]               0               0\n",
      "         BatchNorm1d-14       [100, 20, 33]              40              40\n",
      "             Dropout-15       [100, 20, 33]               0               0\n",
      "              Conv1d-16       [100, 25, 29]           2,525           2,525\n",
      "           AvgPool1d-17       [100, 25, 14]               0               0\n",
      "           LeakyReLU-18       [100, 25, 14]               0               0\n",
      "         BatchNorm1d-19       [100, 25, 14]              50              50\n",
      "             Dropout-20       [100, 25, 14]               0               0\n",
      "              Conv1d-21      [100, 100, 12]           7,600           7,600\n",
      "           AvgPool1d-22       [100, 100, 6]               0               0\n",
      "           LeakyReLU-23       [100, 100, 6]               0               0\n",
      "         BatchNorm1d-24       [100, 100, 6]             200             200\n",
      "             Dropout-25       [100, 100, 6]               0               0\n",
      "   AdaptiveAvgPool1d-26       [100, 100, 1]               0               0\n",
      "              Linear-27           [100, 50]           5,050           5,050\n",
      "           LeakyReLU-28           [100, 50]               0               0\n",
      "         BatchNorm1d-29           [100, 50]             100             100\n",
      "             Dropout-30           [100, 50]               0               0\n",
      "              Linear-31           [100, 50]           2,550           2,550\n",
      "           LeakyReLU-32           [100, 50]               0               0\n",
      "         BatchNorm1d-33           [100, 50]             100             100\n",
      "             Dropout-34           [100, 50]               0               0\n",
      "              Linear-35           [100, 25]           1,275           1,275\n",
      "           LeakyReLU-36           [100, 25]               0               0\n",
      "         BatchNorm1d-37           [100, 25]              50              50\n",
      "             Dropout-38           [100, 25]               0               0\n",
      "              Linear-39            [100, 1]              26              26\n",
      "============================================================================\n",
      "Total params: 22,883\n",
      "Trainable params: 22,883\n",
      "Non-trainable params: 0\n",
      "----------------------------------------------------------------------------\n"
     ]
    }
   ],
   "source": [
    "d = 0.1\n",
    "w_layers =  [[6,12,3,d],[12,15,5,d],[15,20,7,d],[20,25,5,d],[25,100,3,d]]\n",
    "pred_layers = [[100,50,d],[50,50,d], [50,25,d]]\n",
    "\n",
    "model = MyNet(w_layers, pred_layers)\n",
    "model = model.to(device)\n",
    "\n",
    "sm = summary(model, data_inputs[0], print_summary=True,  max_depth=1)"
   ]
  },
  {
   "cell_type": "code",
   "execution_count": null,
   "metadata": {},
   "outputs": [
    {
     "data": {
      "image/png": "[encoded data removed]",
      "text/plain": [
       "<Figure size 864x576 with 1 Axes>"
      ]
     },
     "metadata": {
      "needs_background": "light"
     },
     "output_type": "display_data"
    },
    {
     "name": "stdout",
     "output_type": "stream",
     "text": [
      "log loss:\n",
      "training   (min: 1633.428, max: 7932.710, cur: 1633.428)\n",
      "validation (min: 1126.128, max: 2989.513, cur: 1126.128)\n",
      "[0:27] loss: 0.007 time:4.76 train_method: adv\n"
     ]
    },
    {
     "data": {
      "application/vnd.jupyter.widget-view+json": {
       "model_id": "52bb42c0159149f3b92003d5ce0e68eb",
       "version_major": 2,
       "version_minor": 0
      },
      "text/plain": [
       "HBox(children=(FloatProgress(value=0.0, max=103.0), HTML(value='')))"
      ]
     },
     "metadata": {},
     "output_type": "display_data"
    }
   ],
   "source": [
    "epsilon = 0.1\n",
    "alpha = 0.1\n",
    "train_methods = ['none', 'rnd', 'adv']\n",
    "\n",
    "for train_method in train_methods:\n",
    "    model = MyNet(w_layers, pred_layers)\n",
    "    model = model.to(device)\n",
    "    model_file_name = f'../data/model_cnn_{train_method}_{PCT}_{REP}.pth'\n",
    "    criterion = nn.MSELoss()\n",
    "    optimizer = torch.optim.Adam(model.parameters(), lr=0.001)\n",
    "    min_loss = 10\n",
    "    bad_epochs = 0\n",
    "    liveloss = PlotLosses()\n",
    "\n",
    "    for epoch in range(1000):\n",
    "        start_time = time.time()\n",
    "        epoch_loss = []\n",
    "        val_loss = []\n",
    "\n",
    "        model.train()\n",
    "        for i, (Ws, Ys) in enumerate(tqdm(train_loader)):\n",
    "\n",
    "            if train_method == 'rnd':\n",
    "                # Generates normaly distributed random data with SD = epsilon \n",
    "                delta = epsilon * torch.randn_like(Ws)\n",
    "\n",
    "                # Multiply delta by the SD of each variable to keep the proportion\n",
    "                # and crop to the valid range:\n",
    "                rnd_data = torch.clamp(Ws + w_std * delta, 0, 1)\n",
    "\n",
    "                # Replace the data with the noisy version:\n",
    "                Ws = rnd_data\n",
    "\n",
    "            elif train_method == 'adv':\n",
    "                # Generates normaly distributed random data with SD = epsilon \n",
    "                delta = epsilon * torch.randn_like(Ws)\n",
    "\n",
    "                # Set the parameter to enable gradiante calculation\n",
    "                delta.requires_grad = True\n",
    "\n",
    "                # Run the model in the noisy data\n",
    "                output = model(Ws + w_std * delta)\n",
    "\n",
    "                # Calc the loss\n",
    "                loss = criterion(output, Ys[:,None])\n",
    "\n",
    "                # Calc the gradiantes\n",
    "                loss.backward()\n",
    "\n",
    "                # Aply the FGSM to move the random values to an adv direction\n",
    "                delta = delta.data.detach() + alpha * torch.sign(delta.grad.detach())\n",
    "\n",
    "                # Clip the perturbations to reasonable limits (3*SD)\n",
    "                delta = torch.clamp(delta, -3*epsilon, 3*epsilon)\n",
    "\n",
    "                # Multiply delta by the SD of each variable to keep the proportion\n",
    "                # and crop to the valid range:\n",
    "                adv_data = torch.clamp(Ws + w_std * delta, 0, 1)\n",
    "\n",
    "                # Replace the data with the adversarial version\n",
    "                Ws = adv_data\n",
    "\n",
    "            # Proceed with normal training steps\n",
    "\n",
    "            # Get the prediction\n",
    "            output = model(Ws)\n",
    "\n",
    "            # Calc the loss\n",
    "            loss = criterion(output, Ys[:,None])\n",
    "\n",
    "            # Clear the gradients\n",
    "            optimizer.zero_grad()\n",
    "\n",
    "            # Calc new gradients\n",
    "            loss.backward()\n",
    "\n",
    "            # Update model parameters\n",
    "            optimizer.step()\n",
    "\n",
    "            # Store mini-batch loss\n",
    "            epoch_loss.append(loss.data.item())\n",
    "\n",
    "        # Set the model to eval\n",
    "        model.eval()\n",
    "\n",
    "        # Evaluate the model in the validation set\n",
    "        for i, (Ws, Ys) in enumerate(tqdm(val_loader)):\n",
    "\n",
    "            # Get the prediction\n",
    "            with torch.no_grad():\n",
    "                outputs = model(Ws)\n",
    "\n",
    "            # Calc the loss\n",
    "            loss = criterion(outputs, Ys[:,None])\n",
    "\n",
    "            # Store mini-batch loss\n",
    "            val_loss.append(loss.data.item())\n",
    "\n",
    "        # Get average train and val losses\n",
    "        epoch_loss = np.array(epoch_loss).mean()\n",
    "        val_loss = np.array(val_loss).mean()\n",
    "\n",
    "        # Apply the early stopping criteria\n",
    "        if val_loss < min_loss:\n",
    "            torch.save(model.state_dict(), model_file_name)\n",
    "            bad_epochs = 0\n",
    "            min_loss = val_loss\n",
    "        else:\n",
    "            bad_epochs += 1\n",
    "\n",
    "        if bad_epochs > 50:\n",
    "            break\n",
    "\n",
    "        # Update the loss with the RMSE in the original yield scale (Mg/ha)\n",
    "        liveloss.update({\n",
    "            'log loss': np.sqrt(epoch_loss) * 2e4,\n",
    "            'val_log loss': np.sqrt(val_loss) * 2e4\n",
    "        })\n",
    "        liveloss.draw()\n",
    "\n",
    "        # Get total time per epoch\n",
    "        time_taken = time.time() - start_time\n",
    "\n",
    "        # Print some diagnostics\n",
    "        print(f'[{bad_epochs}:{epoch}] loss: {epoch_loss:.3f} time:{time_taken:.2f} train_method: {train_method}')\n"
   ]
  },
  {
   "cell_type": "code",
   "execution_count": null,
   "metadata": {},
   "outputs": [],
   "source": []
  }
 ],
 "metadata": {
  "kernelspec": {
   "display_name": "Python [conda env:GEOANN]",
   "language": "python",
   "name": "conda-env-GEOANN-py"
  },
  "language_info": {
   "codemirror_mode": {
    "name": "ipython",
    "version": 3
   },
   "file_extension": ".py",
   "mimetype": "text/x-python",
   "name": "python",
   "nbconvert_exporter": "python",
   "pygments_lexer": "ipython3",
   "version": "3.7.6"
  },
  "varInspector": {
   "cols": {
    "lenName": 16,
    "lenType": 16,
    "lenVar": 40
   },
   "kernels_config": {
    "python": {
     "delete_cmd_postfix": "",
     "delete_cmd_prefix": "del ",
     "library": "var_list.py",
     "varRefreshCmd": "print(var_dic_list())"
    },
    "r": {
     "delete_cmd_postfix": ") ",
     "delete_cmd_prefix": "rm(",
     "library": "var_list.r",
     "varRefreshCmd": "cat(var_dic_list()) "
    }
   },
   "types_to_exclude": [
    "module",
    "function",
    "builtin_function_or_method",
    "instance",
    "_Feature"
   ],
   "window_display": false
  }
 },
 "nbformat": 4,
 "nbformat_minor": 2
}
